{
  "cells": [
    {
      "cell_type": "markdown",
      "metadata": {
        "id": "Vj-vSotIGf8P"
      },
      "source": [
        "# Object Oriented K-Means Algorithm"
      ]
    },
    {
      "cell_type": "code",
      "execution_count": 1,
      "metadata": {
        "id": "jaohX2F9Gf8Q"
      },
      "outputs": [],
      "source": [
        "# imports\n",
        "from __future__ import annotations #postpone the evaluation of type hints until runtime.\n",
        "from typing import TypeVar, Generic, List, Iterable, Tuple, Iterator, Sequence\n",
        "from dataclasses import dataclass\n",
        "from math import sqrt\n",
        "from copy import deepcopy\n",
        "from functools import partial\n",
        "from random import uniform\n",
        "from statistics import mean, pstdev\n"
      ]
    },
    {
      "cell_type": "code",
      "execution_count": 2,
      "metadata": {
        "id": "Bd-1GFkBGf8R"
      },
      "outputs": [],
      "source": [
        "# data_point.py\n",
        "class DataPoint:\n",
        "    def __init__(self, initial: Iterable[float]) -> None:\n",
        "        self._originals: Tuple[float, ...] = initial\n",
        "        self.dimensions: Tuple[float, ...] = initial\n",
        "\n",
        "    @property\n",
        "    def num_dimensions(self) -> int:\n",
        "        return len(self.dimensions)\n",
        "\n",
        "    def distance(self, other: DataPoint) -> float:\n",
        "        combined: Iterator[Tuple[float,float]] = zip(self.dimensions, other.dimensions)\n",
        "        differences: List[float] = [(x - y)**2 for x, y in combined]\n",
        "        return sqrt(sum(differences))\n",
        "\n",
        "    def __eq__(self, other: object) -> bool:\n",
        "        if isinstance(other, DataPoint):\n",
        "            return NotImplemented\n",
        "        return self.dimensions == other.dimensions\n",
        "\n",
        "    def __repr__(self) -> str:\n",
        "        return self._originals.__repr__()\n"
      ]
    },
    {
      "cell_type": "code",
      "execution_count": 3,
      "metadata": {
        "id": "xxzE9QUwGf8R"
      },
      "outputs": [],
      "source": [
        "# kmeans.py\n",
        "def zscores(original: Sequence[float]) -> List[float]:\n",
        "    avg: float = mean(original)\n",
        "    std: float = pstdev(original)\n",
        "\n",
        "    if std == 0:\n",
        "        return [0.] * len(original)\n",
        "\n",
        "    return [(x - avg)/std for x in original]\n"
      ]
    },
    {
      "cell_type": "code",
      "execution_count": 4,
      "metadata": {
        "id": "G1Oji-YwGf8S"
      },
      "outputs": [],
      "source": [
        "# # Algorithm for kmeans # #\n",
        "# 1. initialize data points and k\n",
        "# 2. normalize data points\n",
        "# 3. create random centeroids for each cluster\n",
        "# 4. assign data points to clusters\n",
        "# 5. recalculate centeroids with new cluster data points\n",
        "# 6. repeat 4 and 5\n",
        "# 7. stop with maximum iterations or centeroids no move\n",
        "\n",
        "Point= TypeVar('Point', bound= DataPoint)\n",
        "\n",
        "class KMeans(Generic[Point]):\n",
        "\n",
        "    @dataclass\n",
        "    class Cluster:\n",
        "        points: List[Point]\n",
        "        centeroid: Point\n",
        "\n",
        "    def __init__(self, k:int, data_points: List[Point]) -> None:\n",
        "        if k < 1:\n",
        "            raise ValueError('k must be positive integer')\n",
        "\n",
        "        self._k: int= k\n",
        "        self._data_points: List[Point]= data_points\n",
        "        self._zscore_normalize()\n",
        "\n",
        "        # initialize clusters\n",
        "        self._clusters: List[KMeans.Cluster] = []\n",
        "\n",
        "        for _ in range(self._k):\n",
        "            rand_point: Point = self._random_point()\n",
        "            cluster: KMeans.Cluster = KMeans.Cluster([], rand_point)\n",
        "            self._clusters.append(cluster)\n",
        "\n",
        "    @property\n",
        "    def _centeroids(self) -> List[Point]:\n",
        "        return [cluster.centeroid for cluster in self._clusters]\n",
        "\n",
        "    # Point dimension selector\n",
        "    def _dimension_slice(self, index: int = 0) -> List[float]:\n",
        "        return [point.dimensions[index] for point in self._data_points]\n",
        "\n",
        "    def _zscore_normalize(self) -> None:\n",
        "        zscored: List[List[float]] = [[] for _ in range(len(self._data_points))]\n",
        "        for dim in range(self._data_points[0].num_dimensions):\n",
        "            dimension_slice: List[float] = self._dimension_slice(dim)\n",
        "            for i, zscore in enumerate(zscores(dimension_slice)):\n",
        "                zscored[i].append(zscore)\n",
        "        for i in range(len(self._data_points)):\n",
        "            self._data_points[i].dimensions = tuple(zscored[i])\n",
        "\n",
        "    def _random_point(self) -> Point:\n",
        "        rand_dimensions: List[float] = []\n",
        "        for i in range(self._data_points[0].num_dimensions):\n",
        "            values: List[float] = self._dimension_slice(i)\n",
        "            rand_values: Tuple[float] = uniform(max(values), min(values))\n",
        "            rand_dimensions.append(rand_values)\n",
        "        return DataPoint(rand_dimensions)\n",
        "\n",
        "    def _assign_clusters(self) -> None:\n",
        "        for point in self._data_points:\n",
        "            closest_cluster: Point = min(self._centeroids, key = partial(DataPoint.distance, point))\n",
        "            index: int= self._centeroids.index(closest_cluster)\n",
        "            self._clusters[index].points.append(point)\n",
        "\n",
        "    def _calculate_centeroids(self) -> None:\n",
        "        for cluster in self._clusters:\n",
        "            if len(cluster.points) == 0:\n",
        "                continue\n",
        "            means: List[float] = []\n",
        "            for i in range(cluster.points[0].num_dimensions):\n",
        "                dimension_slice : List[float] = [p.dimensions[i] for p in cluster.points]\n",
        "                means.append(mean(dimension_slice))\n",
        "                cluster.centeroid = DataPoint(means)\n",
        "\n",
        "    def run(self, max_iterations: int = 100) -> List[KMeans.Cluster]:\n",
        "        for iters in range(max_iterations):\n",
        "            for cluster in self._clusters:\n",
        "                cluster.points.clear()\n",
        "\n",
        "            self._assign_clusters()\n",
        "            previous_centeroids: List[Point] = deepcopy(self._centeroids)\n",
        "            self._calculate_centeroids()\n",
        "\n",
        "            centroid_shift = sum([previous_centeroid.distance(current_centeroid)\n",
        "                           for previous_centeroid, current_centeroid in zip(previous_centeroids, self._centeroids)])\n",
        "            if centroid_shift < 1e-18:\n",
        "                print(f'Converged after {iters} iterations')\n",
        "                return self._clusters\n",
        "\n",
        "        print('Did not converged in 100 iterations')\n",
        "        return self._clusters\n"
      ]
    },
    {
      "cell_type": "code",
      "execution_count": 31,
      "metadata": {
        "colab": {
          "base_uri": "https://localhost:8080/"
        },
        "id": "8j49wMrIGf8S",
        "outputId": "67ab76e1-c3ab-4e94-9984-435500fb06d9"
      },
      "outputs": [
        {
          "name": "stdout",
          "output_type": "stream",
          "text": [
            "Converged after 1 iterations\n",
            "CLuster0, [[2.0, 1.0, 1.0]]\n",
            "CLuster1, [[2.0, 2.0, 2.0], [30.0, 1.5, 2.5]]\n"
          ]
        }
      ],
      "source": [
        "if __name__ == '__main__':\n",
        "    point1 = DataPoint([2., 1., 1.])\n",
        "    point2 = DataPoint([2., 2., 2.])\n",
        "    point3 = DataPoint([30., 1.5, 2.5])\n",
        "\n",
        "    k_means = KMeans(2, [point1, point2, point3])\n",
        "    clusters : List[KMeans.Cluster] = k_means.run()\n",
        "\n",
        "    for i, cluster in enumerate(clusters):\n",
        "        print(f'CLuster{i}, {cluster.points}')"
      ]
    },
    {
      "cell_type": "code",
      "execution_count": null,
      "metadata": {
        "id": "mMdK2dECNH9h"
      },
      "outputs": [],
      "source": []
    }
  ],
  "metadata": {
    "colab": {
      "provenance": []
    },
    "kernelspec": {
      "display_name": "gputorch",
      "language": "python",
      "name": "python3"
    },
    "language_info": {
      "codemirror_mode": {
        "name": "ipython",
        "version": 3
      },
      "file_extension": ".py",
      "mimetype": "text/x-python",
      "name": "python",
      "nbconvert_exporter": "python",
      "pygments_lexer": "ipython3",
      "version": "3.12.2"
    }
  },
  "nbformat": 4,
  "nbformat_minor": 0
}
